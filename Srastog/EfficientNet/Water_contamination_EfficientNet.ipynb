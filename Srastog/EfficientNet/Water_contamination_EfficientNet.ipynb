#Added support for directly converting jupyter notebooks to streamlit app amd Fastapi
